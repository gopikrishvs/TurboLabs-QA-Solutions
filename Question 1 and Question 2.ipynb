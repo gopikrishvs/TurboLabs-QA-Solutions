{
 "cells": [
  {
   "cell_type": "markdown",
   "metadata": {},
   "source": [
    "### Question 1:\n",
    "\n",
    "#### Part 01. Create a Pandas series with 100 random numbers which is a mix of integer and float values. The order of integer and float digits should also be random.\n",
    "#### Part 02. Calculate the percentage of integer and float values in that series.\n"
   ]
  },
  {
   "cell_type": "code",
   "execution_count": 3,
   "metadata": {},
   "outputs": [],
   "source": [
    "# Part 1:\n",
    "import pandas as pd\n",
    "import numpy as np"
   ]
  },
  {
   "cell_type": "code",
   "execution_count": 99,
   "metadata": {},
   "outputs": [],
   "source": [
    "# Creating a Pandas series with 100 random numbers which is a mix of integer and float values.\n",
    "# this is the only way i found working, couldn't find a way to mix two data types in a single column\n",
    "n = np.random.randint(1,100, 100)\n",
    "f = np.random.uniform(1, 100, 100)\n",
    "s = np.concatenate((n,f))\n",
    "np.random.shuffle(s)\n",
    "result = s[:100]"
   ]
  },
  {
   "cell_type": "code",
   "execution_count": 100,
   "metadata": {},
   "outputs": [],
   "source": [
    "df = pd.Series(result)"
   ]
  },
  {
   "cell_type": "code",
   "execution_count": 102,
   "metadata": {},
   "outputs": [
    {
     "data": {
      "text/plain": [
       "0     61.000000\n",
       "1     56.654530\n",
       "2     89.511642\n",
       "3     39.000000\n",
       "4     89.494276\n",
       "        ...    \n",
       "95    22.726798\n",
       "96    39.000000\n",
       "97    23.000000\n",
       "98    60.080244\n",
       "99    83.757052\n",
       "Length: 100, dtype: float64"
      ]
     },
     "execution_count": 102,
     "metadata": {},
     "output_type": "execute_result"
    }
   ],
   "source": [
    "df"
   ]
  },
  {
   "cell_type": "code",
   "execution_count": 121,
   "metadata": {},
   "outputs": [],
   "source": [
    "# Part 2:\n",
    "\n",
    "def sort(x):\n",
    "    if x[3:] == '0':\n",
    "        return True\n",
    "    else:\n",
    "        return False"
   ]
  },
  {
   "cell_type": "code",
   "execution_count": 128,
   "metadata": {},
   "outputs": [],
   "source": [
    "ab = df.apply(lambda x: sort(str(x))).value_counts()"
   ]
  },
  {
   "cell_type": "code",
   "execution_count": 135,
   "metadata": {},
   "outputs": [
    {
     "name": "stdout",
     "output_type": "stream",
     "text": [
      "The percent of integers in the series 39 %\n",
      "The percent of floats in the series 61 %\n"
     ]
    }
   ],
   "source": [
    "print('The percent of integers in the series',ab[1], '%')\n",
    "print('The percent of floats in the series',ab[0], '%')"
   ]
  },
  {
   "cell_type": "markdown",
   "metadata": {},
   "source": [
    "### Question 2:\n",
    "#### Part 01. Create a Pandas series with 100 random dates that fall between 01-01-20 to 01-01-21.\n",
    "#### Part 02. Dedupe it and calculate the number of duplicates and convert it to percentage. Then by using regex, filter values where either the month is 02,05,09 OR the date is 01,04,07 - the apply function should not be used. Finally, calculate the percentage of values filtered for the month condition and the date condition.\n"
   ]
  },
  {
   "cell_type": "code",
   "execution_count": 4,
   "metadata": {},
   "outputs": [],
   "source": [
    "# Part 1\n",
    "min_date = pd.to_datetime('01-01-20')\n",
    "max_date = pd.to_datetime('01-01-21')\n",
    "\n",
    "d = (max_date - min_date).days + 1\n",
    "\n",
    "df_date = pd.Series(min_date + pd.to_timedelta(np.random.randint(d,size=100), unit='d'), name = 'dates')"
   ]
  },
  {
   "cell_type": "code",
   "execution_count": 5,
   "metadata": {},
   "outputs": [
    {
     "data": {
      "text/plain": [
       "0    2020-07-18\n",
       "1    2020-06-24\n",
       "2    2020-12-27\n",
       "3    2020-03-19\n",
       "4    2020-10-26\n",
       "        ...    \n",
       "95   2020-12-24\n",
       "96   2020-06-09\n",
       "97   2020-06-11\n",
       "98   2020-01-05\n",
       "99   2020-09-23\n",
       "Name: dates, Length: 100, dtype: datetime64[ns]"
      ]
     },
     "execution_count": 5,
     "metadata": {},
     "output_type": "execute_result"
    }
   ],
   "source": [
    "df_date"
   ]
  },
  {
   "cell_type": "code",
   "execution_count": 54,
   "metadata": {},
   "outputs": [
    {
     "name": "stdout",
     "output_type": "stream",
     "text": [
      "Percentage of duplicate values =  13 %\n"
     ]
    }
   ],
   "source": [
    "# Part 2\n",
    "duplicate = df_date.duplicated().sum()\n",
    "duplicate / 100 * 100\n",
    "print('Percentage of duplicate values = ', duplicate, '%')"
   ]
  },
  {
   "cell_type": "code",
   "execution_count": 39,
   "metadata": {},
   "outputs": [],
   "source": [
    "import re\n",
    "regex_for_month = r'^[0-9]*[-](?:02|05|09)[-][0-9]*$'\n",
    "regex_for_date = r'^[0-9]{4}[-][0-9]{2}[-](?:04|07|01)$'"
   ]
  },
  {
   "cell_type": "code",
   "execution_count": 36,
   "metadata": {},
   "outputs": [],
   "source": [
    "# to convert datetime format to string \n",
    "df_date = df_date.dt.strftime('%Y-%m-%d')    "
   ]
  },
  {
   "cell_type": "code",
   "execution_count": 48,
   "metadata": {},
   "outputs": [],
   "source": [
    "filtered_month = len(df_date[df_date.str.count(regex_for_month)==1])\n",
    "filtered_date = len(df_date[df_date.str.count(regex_for_date)==1])"
   ]
  },
  {
   "cell_type": "code",
   "execution_count": 138,
   "metadata": {},
   "outputs": [
    {
     "data": {
      "text/plain": [
       "(26, 9)"
      ]
     },
     "execution_count": 138,
     "metadata": {},
     "output_type": "execute_result"
    }
   ],
   "source": [
    "filtered_month, filtered_date"
   ]
  },
  {
   "cell_type": "code",
   "execution_count": 139,
   "metadata": {},
   "outputs": [
    {
     "name": "stdout",
     "output_type": "stream",
     "text": [
      "Percentage of values filtered for the month condition =  26 %\n",
      "Percentage of values filtered for the date condition =  9 %\n"
     ]
    }
   ],
   "source": [
    "print('Percentage of values filtered for the month condition = ', filtered_month, '%')\n",
    "print('Percentage of values filtered for the date condition = ', filtered_date,'%')"
   ]
  },
  {
   "cell_type": "code",
   "execution_count": null,
   "metadata": {},
   "outputs": [],
   "source": []
  }
 ],
 "metadata": {
  "kernelspec": {
   "display_name": "Python 3",
   "language": "python",
   "name": "python3"
  },
  "language_info": {
   "codemirror_mode": {
    "name": "ipython",
    "version": 3
   },
   "file_extension": ".py",
   "mimetype": "text/x-python",
   "name": "python",
   "nbconvert_exporter": "python",
   "pygments_lexer": "ipython3",
   "version": "3.8.5"
  }
 },
 "nbformat": 4,
 "nbformat_minor": 4
}
